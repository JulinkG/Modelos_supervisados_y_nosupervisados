{
  "nbformat": 4,
  "nbformat_minor": 0,
  "metadata": {
    "colab": {
      "provenance": [],
      "include_colab_link": true
    },
    "kernelspec": {
      "name": "python3",
      "display_name": "Python 3"
    },
    "language_info": {
      "name": "python"
    }
  },
  "cells": [
    {
      "cell_type": "markdown",
      "metadata": {
        "id": "view-in-github",
        "colab_type": "text"
      },
      "source": [
        "<a href=\"https://colab.research.google.com/github/JulinkG/Modelos_supervisados_y_nosupervisados/blob/main/ModeloS.ipynb\" target=\"_parent\"><img src=\"https://colab.research.google.com/assets/colab-badge.svg\" alt=\"Open In Colab\"/></a>"
      ]
    },
    {
      "cell_type": "markdown",
      "source": [
        "### Comentarios generales\n",
        "\n",
        "* Comenta tu código\n"
      ],
      "metadata": {
        "id": "LjTcB9jjVrEn"
      }
    },
    {
      "cell_type": "code",
      "source": [
        "from google.colab import drive\n",
        "drive.mount(\"/content/drive/\")\n"
      ],
      "metadata": {
        "id": "cgFhHXazwR6j",
        "colab": {
          "base_uri": "https://localhost:8080/"
        },
        "outputId": "ce2694a9-2be0-45a6-be3f-de74d3cb5a48"
      },
      "execution_count": 8,
      "outputs": [
        {
          "output_type": "stream",
          "name": "stdout",
          "text": [
            "Mounted at /content/drive/\n"
          ]
        }
      ]
    },
    {
      "cell_type": "code",
      "execution_count": 104,
      "metadata": {
        "id": "MlTOSmxEtS6w"
      },
      "outputs": [],
      "source": [
        "import pandas as pd\n",
        "import numpy as np\n",
        "from sklearn.model_selection import train_test_split\n",
        "import matplotlib.pyplot as plt\n",
        "from sklearn.linear_model import LogisticRegression"
      ]
    },
    {
      "cell_type": "code",
      "source": [
        "# Read data\n",
        "dtt = pd.read_parquet('/content/drive/MyDrive/train.parquet')"
      ],
      "metadata": {
        "id": "BLF_8DShto9a"
      },
      "execution_count": 132,
      "outputs": []
    },
    {
      "cell_type": "code",
      "source": [
        "dtt.dtypes"
      ],
      "metadata": {
        "colab": {
          "base_uri": "https://localhost:8080/"
        },
        "id": "xpCufvD_5csB",
        "outputId": "f6a363b9-4c45-4807-c8bb-c7f483331956"
      },
      "execution_count": 133,
      "outputs": [
        {
          "output_type": "execute_result",
          "data": {
            "text/plain": [
              "id                           int64\n",
              "url                         object\n",
              "region                      object\n",
              "region_url                  object\n",
              "price                        int64\n",
              "type                        object\n",
              "sqfeet                       int64\n",
              "beds                         int64\n",
              "baths                      float64\n",
              "cats_allowed                 int64\n",
              "dogs_allowed                 int64\n",
              "smoking_allowed              int64\n",
              "wheelchair_access            int64\n",
              "electric_vehicle_charge      int64\n",
              "comes_furnished              int64\n",
              "laundry_options             object\n",
              "parking_options             object\n",
              "image_url                   object\n",
              "description                 object\n",
              "lat                        float64\n",
              "long                       float64\n",
              "state                       object\n",
              "dtype: object"
            ]
          },
          "metadata": {},
          "execution_count": 133
        }
      ]
    },
    {
      "cell_type": "code",
      "source": [
        "# Create a categorical value for different levels of pricing\n",
        "category_prices = []\n",
        "\n",
        "for i in dtt['price']:\n",
        "  if i <= 999:\n",
        "    category_prices.append('low')\n",
        "  elif 1999 >= i >=1000:\n",
        "    category_prices.append('medium')\n",
        "  else:\n",
        "    category_prices.append('high')\n"
      ],
      "metadata": {
        "id": "67eUMKok6Cwx"
      },
      "execution_count": 134,
      "outputs": []
    },
    {
      "cell_type": "code",
      "source": [
        "dtt['category_prices'] = category_prices"
      ],
      "metadata": {
        "id": "xfy1f-Nj5xjF"
      },
      "execution_count": 135,
      "outputs": []
    },
    {
      "cell_type": "code",
      "source": [
        "dtt.head(5)"
      ],
      "metadata": {
        "colab": {
          "base_uri": "https://localhost:8080/",
          "height": 629
        },
        "id": "cFWtRmb-6imi",
        "outputId": "a42f420c-826e-4fe7-be02-5f7c0a4ac545"
      },
      "execution_count": 136,
      "outputs": [
        {
          "output_type": "execute_result",
          "data": {
            "text/plain": [
              "           id                                                url  \\\n",
              "0  7048013474  https://boise.craigslist.org/apa/d/very-nice-b...   \n",
              "1  7043931179  https://cosprings.craigslist.org/apa/d/colorad...   \n",
              "2  7048254516  https://norfolk.craigslist.org/apa/d/virginia-...   \n",
              "3  7041032577  https://phoenix.craigslist.org/nph/apa/d/phoen...   \n",
              "4  7048588701  https://nashville.craigslist.org/apa/d/antioch...   \n",
              "\n",
              "                    region                        region_url  price  \\\n",
              "0                    boise      https://boise.craigslist.org   1350   \n",
              "1         colorado springs  https://cosprings.craigslist.org   1115   \n",
              "2  norfolk / hampton roads    https://norfolk.craigslist.org   1129   \n",
              "3                  phoenix    https://phoenix.craigslist.org   1580   \n",
              "4                nashville  https://nashville.craigslist.org    995   \n",
              "\n",
              "        type  sqfeet  beds  baths  cats_allowed  ...  electric_vehicle_charge  \\\n",
              "0      house    1200     2    2.0             1  ...                        0   \n",
              "1  apartment     694     1    1.0             1  ...                        0   \n",
              "2  apartment     900     2    2.0             0  ...                        0   \n",
              "3      house    1469     3    2.0             1  ...                        0   \n",
              "4  apartment     700     1    1.0             1  ...                        0   \n",
              "\n",
              "   comes_furnished  laundry_options     parking_options  \\\n",
              "0                0      w/d in unit     detached garage   \n",
              "1                0      w/d in unit             carport   \n",
              "2                0      w/d hookups  off-street parking   \n",
              "3                0      w/d in unit                None   \n",
              "4                0      w/d in unit             carport   \n",
              "\n",
              "                                           image_url  \\\n",
              "0  https://images.craigslist.org/00B0B_cPiJMEheZe...   \n",
              "1  https://images.craigslist.org/00R0R_5XAoSKvfrz...   \n",
              "2  https://images.craigslist.org/00f0f_3ZbTFrsHpZ...   \n",
              "3  https://images.craigslist.org/00f0f_aXV5Dkd5qk...   \n",
              "4  https://images.craigslist.org/00606_gYOGKClOHv...   \n",
              "\n",
              "                                         description      lat      long state  \\\n",
              "0  Super cute row house in the Boise bench area. ...  43.5851 -116.2250    id   \n",
              "1  Windtree Apartment Homes currently has a spaci...  38.9137 -104.7800    co   \n",
              "2  Call Today!  show contact info   Indian Lakes ...  36.7922  -76.1643    va   \n",
              "3  Cody Anderson Two Brothers Realty License #: S...  33.5623 -112.0560    az   \n",
              "4  To schedule a tour We now book our tour appoin...  36.0595  -86.6592    tn   \n",
              "\n",
              "   category_prices  \n",
              "0           medium  \n",
              "1           medium  \n",
              "2           medium  \n",
              "3           medium  \n",
              "4              low  \n",
              "\n",
              "[5 rows x 23 columns]"
            ],
            "text/html": [
              "\n",
              "  <div id=\"df-4d8868e9-051d-41d0-879b-660e5d032d10\">\n",
              "    <div class=\"colab-df-container\">\n",
              "      <div>\n",
              "<style scoped>\n",
              "    .dataframe tbody tr th:only-of-type {\n",
              "        vertical-align: middle;\n",
              "    }\n",
              "\n",
              "    .dataframe tbody tr th {\n",
              "        vertical-align: top;\n",
              "    }\n",
              "\n",
              "    .dataframe thead th {\n",
              "        text-align: right;\n",
              "    }\n",
              "</style>\n",
              "<table border=\"1\" class=\"dataframe\">\n",
              "  <thead>\n",
              "    <tr style=\"text-align: right;\">\n",
              "      <th></th>\n",
              "      <th>id</th>\n",
              "      <th>url</th>\n",
              "      <th>region</th>\n",
              "      <th>region_url</th>\n",
              "      <th>price</th>\n",
              "      <th>type</th>\n",
              "      <th>sqfeet</th>\n",
              "      <th>beds</th>\n",
              "      <th>baths</th>\n",
              "      <th>cats_allowed</th>\n",
              "      <th>...</th>\n",
              "      <th>electric_vehicle_charge</th>\n",
              "      <th>comes_furnished</th>\n",
              "      <th>laundry_options</th>\n",
              "      <th>parking_options</th>\n",
              "      <th>image_url</th>\n",
              "      <th>description</th>\n",
              "      <th>lat</th>\n",
              "      <th>long</th>\n",
              "      <th>state</th>\n",
              "      <th>category_prices</th>\n",
              "    </tr>\n",
              "  </thead>\n",
              "  <tbody>\n",
              "    <tr>\n",
              "      <th>0</th>\n",
              "      <td>7048013474</td>\n",
              "      <td>https://boise.craigslist.org/apa/d/very-nice-b...</td>\n",
              "      <td>boise</td>\n",
              "      <td>https://boise.craigslist.org</td>\n",
              "      <td>1350</td>\n",
              "      <td>house</td>\n",
              "      <td>1200</td>\n",
              "      <td>2</td>\n",
              "      <td>2.0</td>\n",
              "      <td>1</td>\n",
              "      <td>...</td>\n",
              "      <td>0</td>\n",
              "      <td>0</td>\n",
              "      <td>w/d in unit</td>\n",
              "      <td>detached garage</td>\n",
              "      <td>https://images.craigslist.org/00B0B_cPiJMEheZe...</td>\n",
              "      <td>Super cute row house in the Boise bench area. ...</td>\n",
              "      <td>43.5851</td>\n",
              "      <td>-116.2250</td>\n",
              "      <td>id</td>\n",
              "      <td>medium</td>\n",
              "    </tr>\n",
              "    <tr>\n",
              "      <th>1</th>\n",
              "      <td>7043931179</td>\n",
              "      <td>https://cosprings.craigslist.org/apa/d/colorad...</td>\n",
              "      <td>colorado springs</td>\n",
              "      <td>https://cosprings.craigslist.org</td>\n",
              "      <td>1115</td>\n",
              "      <td>apartment</td>\n",
              "      <td>694</td>\n",
              "      <td>1</td>\n",
              "      <td>1.0</td>\n",
              "      <td>1</td>\n",
              "      <td>...</td>\n",
              "      <td>0</td>\n",
              "      <td>0</td>\n",
              "      <td>w/d in unit</td>\n",
              "      <td>carport</td>\n",
              "      <td>https://images.craigslist.org/00R0R_5XAoSKvfrz...</td>\n",
              "      <td>Windtree Apartment Homes currently has a spaci...</td>\n",
              "      <td>38.9137</td>\n",
              "      <td>-104.7800</td>\n",
              "      <td>co</td>\n",
              "      <td>medium</td>\n",
              "    </tr>\n",
              "    <tr>\n",
              "      <th>2</th>\n",
              "      <td>7048254516</td>\n",
              "      <td>https://norfolk.craigslist.org/apa/d/virginia-...</td>\n",
              "      <td>norfolk / hampton roads</td>\n",
              "      <td>https://norfolk.craigslist.org</td>\n",
              "      <td>1129</td>\n",
              "      <td>apartment</td>\n",
              "      <td>900</td>\n",
              "      <td>2</td>\n",
              "      <td>2.0</td>\n",
              "      <td>0</td>\n",
              "      <td>...</td>\n",
              "      <td>0</td>\n",
              "      <td>0</td>\n",
              "      <td>w/d hookups</td>\n",
              "      <td>off-street parking</td>\n",
              "      <td>https://images.craigslist.org/00f0f_3ZbTFrsHpZ...</td>\n",
              "      <td>Call Today!  show contact info   Indian Lakes ...</td>\n",
              "      <td>36.7922</td>\n",
              "      <td>-76.1643</td>\n",
              "      <td>va</td>\n",
              "      <td>medium</td>\n",
              "    </tr>\n",
              "    <tr>\n",
              "      <th>3</th>\n",
              "      <td>7041032577</td>\n",
              "      <td>https://phoenix.craigslist.org/nph/apa/d/phoen...</td>\n",
              "      <td>phoenix</td>\n",
              "      <td>https://phoenix.craigslist.org</td>\n",
              "      <td>1580</td>\n",
              "      <td>house</td>\n",
              "      <td>1469</td>\n",
              "      <td>3</td>\n",
              "      <td>2.0</td>\n",
              "      <td>1</td>\n",
              "      <td>...</td>\n",
              "      <td>0</td>\n",
              "      <td>0</td>\n",
              "      <td>w/d in unit</td>\n",
              "      <td>None</td>\n",
              "      <td>https://images.craigslist.org/00f0f_aXV5Dkd5qk...</td>\n",
              "      <td>Cody Anderson Two Brothers Realty License #: S...</td>\n",
              "      <td>33.5623</td>\n",
              "      <td>-112.0560</td>\n",
              "      <td>az</td>\n",
              "      <td>medium</td>\n",
              "    </tr>\n",
              "    <tr>\n",
              "      <th>4</th>\n",
              "      <td>7048588701</td>\n",
              "      <td>https://nashville.craigslist.org/apa/d/antioch...</td>\n",
              "      <td>nashville</td>\n",
              "      <td>https://nashville.craigslist.org</td>\n",
              "      <td>995</td>\n",
              "      <td>apartment</td>\n",
              "      <td>700</td>\n",
              "      <td>1</td>\n",
              "      <td>1.0</td>\n",
              "      <td>1</td>\n",
              "      <td>...</td>\n",
              "      <td>0</td>\n",
              "      <td>0</td>\n",
              "      <td>w/d in unit</td>\n",
              "      <td>carport</td>\n",
              "      <td>https://images.craigslist.org/00606_gYOGKClOHv...</td>\n",
              "      <td>To schedule a tour We now book our tour appoin...</td>\n",
              "      <td>36.0595</td>\n",
              "      <td>-86.6592</td>\n",
              "      <td>tn</td>\n",
              "      <td>low</td>\n",
              "    </tr>\n",
              "  </tbody>\n",
              "</table>\n",
              "<p>5 rows × 23 columns</p>\n",
              "</div>\n",
              "      <button class=\"colab-df-convert\" onclick=\"convertToInteractive('df-4d8868e9-051d-41d0-879b-660e5d032d10')\"\n",
              "              title=\"Convert this dataframe to an interactive table.\"\n",
              "              style=\"display:none;\">\n",
              "        \n",
              "  <svg xmlns=\"http://www.w3.org/2000/svg\" height=\"24px\"viewBox=\"0 0 24 24\"\n",
              "       width=\"24px\">\n",
              "    <path d=\"M0 0h24v24H0V0z\" fill=\"none\"/>\n",
              "    <path d=\"M18.56 5.44l.94 2.06.94-2.06 2.06-.94-2.06-.94-.94-2.06-.94 2.06-2.06.94zm-11 1L8.5 8.5l.94-2.06 2.06-.94-2.06-.94L8.5 2.5l-.94 2.06-2.06.94zm10 10l.94 2.06.94-2.06 2.06-.94-2.06-.94-.94-2.06-.94 2.06-2.06.94z\"/><path d=\"M17.41 7.96l-1.37-1.37c-.4-.4-.92-.59-1.43-.59-.52 0-1.04.2-1.43.59L10.3 9.45l-7.72 7.72c-.78.78-.78 2.05 0 2.83L4 21.41c.39.39.9.59 1.41.59.51 0 1.02-.2 1.41-.59l7.78-7.78 2.81-2.81c.8-.78.8-2.07 0-2.86zM5.41 20L4 18.59l7.72-7.72 1.47 1.35L5.41 20z\"/>\n",
              "  </svg>\n",
              "      </button>\n",
              "      \n",
              "  <style>\n",
              "    .colab-df-container {\n",
              "      display:flex;\n",
              "      flex-wrap:wrap;\n",
              "      gap: 12px;\n",
              "    }\n",
              "\n",
              "    .colab-df-convert {\n",
              "      background-color: #E8F0FE;\n",
              "      border: none;\n",
              "      border-radius: 50%;\n",
              "      cursor: pointer;\n",
              "      display: none;\n",
              "      fill: #1967D2;\n",
              "      height: 32px;\n",
              "      padding: 0 0 0 0;\n",
              "      width: 32px;\n",
              "    }\n",
              "\n",
              "    .colab-df-convert:hover {\n",
              "      background-color: #E2EBFA;\n",
              "      box-shadow: 0px 1px 2px rgba(60, 64, 67, 0.3), 0px 1px 3px 1px rgba(60, 64, 67, 0.15);\n",
              "      fill: #174EA6;\n",
              "    }\n",
              "\n",
              "    [theme=dark] .colab-df-convert {\n",
              "      background-color: #3B4455;\n",
              "      fill: #D2E3FC;\n",
              "    }\n",
              "\n",
              "    [theme=dark] .colab-df-convert:hover {\n",
              "      background-color: #434B5C;\n",
              "      box-shadow: 0px 1px 3px 1px rgba(0, 0, 0, 0.15);\n",
              "      filter: drop-shadow(0px 1px 2px rgba(0, 0, 0, 0.3));\n",
              "      fill: #FFFFFF;\n",
              "    }\n",
              "  </style>\n",
              "\n",
              "      <script>\n",
              "        const buttonEl =\n",
              "          document.querySelector('#df-4d8868e9-051d-41d0-879b-660e5d032d10 button.colab-df-convert');\n",
              "        buttonEl.style.display =\n",
              "          google.colab.kernel.accessAllowed ? 'block' : 'none';\n",
              "\n",
              "        async function convertToInteractive(key) {\n",
              "          const element = document.querySelector('#df-4d8868e9-051d-41d0-879b-660e5d032d10');\n",
              "          const dataTable =\n",
              "            await google.colab.kernel.invokeFunction('convertToInteractive',\n",
              "                                                     [key], {});\n",
              "          if (!dataTable) return;\n",
              "\n",
              "          const docLinkHtml = 'Like what you see? Visit the ' +\n",
              "            '<a target=\"_blank\" href=https://colab.research.google.com/notebooks/data_table.ipynb>data table notebook</a>'\n",
              "            + ' to learn more about interactive tables.';\n",
              "          element.innerHTML = '';\n",
              "          dataTable['output_type'] = 'display_data';\n",
              "          await google.colab.output.renderOutput(dataTable, element);\n",
              "          const docLink = document.createElement('div');\n",
              "          docLink.innerHTML = docLinkHtml;\n",
              "          element.appendChild(docLink);\n",
              "        }\n",
              "      </script>\n",
              "    </div>\n",
              "  </div>\n",
              "  "
            ]
          },
          "metadata": {},
          "execution_count": 136
        }
      ]
    },
    {
      "cell_type": "markdown",
      "source": [],
      "metadata": {
        "id": "Fj_-mcsKfQ4q"
      }
    },
    {
      "cell_type": "markdown",
      "source": [
        "\n",
        "\n",
        "get_dummies = pd.get_dummies() -> DataFrame mxn n renglones corresponden a tus n renglones del dataframe original\n",
        "\n",
        "pd.concat(dtt, get_dummies)\n",
        "\n",
        "$y = mx+b$\n"
      ],
      "metadata": {
        "id": "f6Nvz2mXXlkG"
      }
    },
    {
      "cell_type": "code",
      "source": [
        "#Primer paso: convertimos todas las variables categoricas a numéricas, quitando la columna precios y añadiendo variables dummies\n",
        "dtt_fin=dtt[['region','type','sqfeet','beds','baths','cats_allowed','dogs_allowed','smoking_allowed','wheelchair_access','electric_vehicle_charge','comes_furnished','category_prices']]\n",
        "dtt_fin['category_prices']=dtt_fin['category_prices'].replace(['low', 'medium', 'high'], [1,0,0])"
      ],
      "metadata": {
        "colab": {
          "base_uri": "https://localhost:8080/"
        },
        "id": "CGKQC7rOrQVD",
        "outputId": "fac7a814-0e44-402e-9b24-4e6492b43ada"
      },
      "execution_count": 137,
      "outputs": [
        {
          "output_type": "stream",
          "name": "stderr",
          "text": [
            "<ipython-input-137-d4d0df742d60>:3: SettingWithCopyWarning: \n",
            "A value is trying to be set on a copy of a slice from a DataFrame.\n",
            "Try using .loc[row_indexer,col_indexer] = value instead\n",
            "\n",
            "See the caveats in the documentation: https://pandas.pydata.org/pandas-docs/stable/user_guide/indexing.html#returning-a-view-versus-a-copy\n",
            "  dtt_fin['category_prices']=dtt_fin['category_prices'].replace(['low', 'medium', 'high'], [1,0,0])\n"
          ]
        }
      ]
    },
    {
      "cell_type": "code",
      "source": [
        "pd_dummies=pd.get_dummies(dtt_fin,columns=['region','type'])"
      ],
      "metadata": {
        "id": "LsbyNq1hvFoh"
      },
      "execution_count": 138,
      "outputs": []
    },
    {
      "cell_type": "code",
      "source": [
        "#Extraemos nuestra columna a predecir\n",
        "y=pd_dummies['category_prices']"
      ],
      "metadata": {
        "id": "FV_TYRRUwfuK"
      },
      "execution_count": 139,
      "outputs": []
    },
    {
      "cell_type": "code",
      "source": [
        "#La eliminamos del dataset\n",
        "pd_final=pd_dummies.drop(['category_prices'], axis=1)"
      ],
      "metadata": {
        "id": "QQvAdheYw8e0"
      },
      "execution_count": 140,
      "outputs": []
    },
    {
      "cell_type": "code",
      "source": [
        "pd_final.head(5)"
      ],
      "metadata": {
        "colab": {
          "base_uri": "https://localhost:8080/",
          "height": 317
        },
        "id": "ga3NewHIvwBc",
        "outputId": "e3ebee58-a84a-4d96-9d16-38d203736779"
      },
      "execution_count": 141,
      "outputs": [
        {
          "output_type": "execute_result",
          "data": {
            "text/plain": [
              "   sqfeet  beds  baths  cats_allowed  dogs_allowed  smoking_allowed  \\\n",
              "0    1200     2    2.0             1             1                1   \n",
              "1     694     1    1.0             1             1                1   \n",
              "2     900     2    2.0             0             0                1   \n",
              "3    1469     3    2.0             1             1                1   \n",
              "4     700     1    1.0             1             1                1   \n",
              "\n",
              "   wheelchair_access  electric_vehicle_charge  comes_furnished  \\\n",
              "0                  0                        0                0   \n",
              "1                  0                        0                0   \n",
              "2                  0                        0                0   \n",
              "3                  0                        0                0   \n",
              "4                  0                        0                0   \n",
              "\n",
              "   region_SF bay area  ...  type_condo  type_cottage/cabin  type_duplex  \\\n",
              "0                   0  ...           0                   0            0   \n",
              "1                   0  ...           0                   0            0   \n",
              "2                   0  ...           0                   0            0   \n",
              "3                   0  ...           0                   0            0   \n",
              "4                   0  ...           0                   0            0   \n",
              "\n",
              "   type_flat  type_house  type_in-law  type_land  type_loft  \\\n",
              "0          0           1            0          0          0   \n",
              "1          0           0            0          0          0   \n",
              "2          0           0            0          0          0   \n",
              "3          0           1            0          0          0   \n",
              "4          0           0            0          0          0   \n",
              "\n",
              "   type_manufactured  type_townhouse  \n",
              "0                  0               0  \n",
              "1                  0               0  \n",
              "2                  0               0  \n",
              "3                  0               0  \n",
              "4                  0               0  \n",
              "\n",
              "[5 rows x 425 columns]"
            ],
            "text/html": [
              "\n",
              "  <div id=\"df-d4ad10c4-7608-47e8-9d5a-56724fac074d\">\n",
              "    <div class=\"colab-df-container\">\n",
              "      <div>\n",
              "<style scoped>\n",
              "    .dataframe tbody tr th:only-of-type {\n",
              "        vertical-align: middle;\n",
              "    }\n",
              "\n",
              "    .dataframe tbody tr th {\n",
              "        vertical-align: top;\n",
              "    }\n",
              "\n",
              "    .dataframe thead th {\n",
              "        text-align: right;\n",
              "    }\n",
              "</style>\n",
              "<table border=\"1\" class=\"dataframe\">\n",
              "  <thead>\n",
              "    <tr style=\"text-align: right;\">\n",
              "      <th></th>\n",
              "      <th>sqfeet</th>\n",
              "      <th>beds</th>\n",
              "      <th>baths</th>\n",
              "      <th>cats_allowed</th>\n",
              "      <th>dogs_allowed</th>\n",
              "      <th>smoking_allowed</th>\n",
              "      <th>wheelchair_access</th>\n",
              "      <th>electric_vehicle_charge</th>\n",
              "      <th>comes_furnished</th>\n",
              "      <th>region_SF bay area</th>\n",
              "      <th>...</th>\n",
              "      <th>type_condo</th>\n",
              "      <th>type_cottage/cabin</th>\n",
              "      <th>type_duplex</th>\n",
              "      <th>type_flat</th>\n",
              "      <th>type_house</th>\n",
              "      <th>type_in-law</th>\n",
              "      <th>type_land</th>\n",
              "      <th>type_loft</th>\n",
              "      <th>type_manufactured</th>\n",
              "      <th>type_townhouse</th>\n",
              "    </tr>\n",
              "  </thead>\n",
              "  <tbody>\n",
              "    <tr>\n",
              "      <th>0</th>\n",
              "      <td>1200</td>\n",
              "      <td>2</td>\n",
              "      <td>2.0</td>\n",
              "      <td>1</td>\n",
              "      <td>1</td>\n",
              "      <td>1</td>\n",
              "      <td>0</td>\n",
              "      <td>0</td>\n",
              "      <td>0</td>\n",
              "      <td>0</td>\n",
              "      <td>...</td>\n",
              "      <td>0</td>\n",
              "      <td>0</td>\n",
              "      <td>0</td>\n",
              "      <td>0</td>\n",
              "      <td>1</td>\n",
              "      <td>0</td>\n",
              "      <td>0</td>\n",
              "      <td>0</td>\n",
              "      <td>0</td>\n",
              "      <td>0</td>\n",
              "    </tr>\n",
              "    <tr>\n",
              "      <th>1</th>\n",
              "      <td>694</td>\n",
              "      <td>1</td>\n",
              "      <td>1.0</td>\n",
              "      <td>1</td>\n",
              "      <td>1</td>\n",
              "      <td>1</td>\n",
              "      <td>0</td>\n",
              "      <td>0</td>\n",
              "      <td>0</td>\n",
              "      <td>0</td>\n",
              "      <td>...</td>\n",
              "      <td>0</td>\n",
              "      <td>0</td>\n",
              "      <td>0</td>\n",
              "      <td>0</td>\n",
              "      <td>0</td>\n",
              "      <td>0</td>\n",
              "      <td>0</td>\n",
              "      <td>0</td>\n",
              "      <td>0</td>\n",
              "      <td>0</td>\n",
              "    </tr>\n",
              "    <tr>\n",
              "      <th>2</th>\n",
              "      <td>900</td>\n",
              "      <td>2</td>\n",
              "      <td>2.0</td>\n",
              "      <td>0</td>\n",
              "      <td>0</td>\n",
              "      <td>1</td>\n",
              "      <td>0</td>\n",
              "      <td>0</td>\n",
              "      <td>0</td>\n",
              "      <td>0</td>\n",
              "      <td>...</td>\n",
              "      <td>0</td>\n",
              "      <td>0</td>\n",
              "      <td>0</td>\n",
              "      <td>0</td>\n",
              "      <td>0</td>\n",
              "      <td>0</td>\n",
              "      <td>0</td>\n",
              "      <td>0</td>\n",
              "      <td>0</td>\n",
              "      <td>0</td>\n",
              "    </tr>\n",
              "    <tr>\n",
              "      <th>3</th>\n",
              "      <td>1469</td>\n",
              "      <td>3</td>\n",
              "      <td>2.0</td>\n",
              "      <td>1</td>\n",
              "      <td>1</td>\n",
              "      <td>1</td>\n",
              "      <td>0</td>\n",
              "      <td>0</td>\n",
              "      <td>0</td>\n",
              "      <td>0</td>\n",
              "      <td>...</td>\n",
              "      <td>0</td>\n",
              "      <td>0</td>\n",
              "      <td>0</td>\n",
              "      <td>0</td>\n",
              "      <td>1</td>\n",
              "      <td>0</td>\n",
              "      <td>0</td>\n",
              "      <td>0</td>\n",
              "      <td>0</td>\n",
              "      <td>0</td>\n",
              "    </tr>\n",
              "    <tr>\n",
              "      <th>4</th>\n",
              "      <td>700</td>\n",
              "      <td>1</td>\n",
              "      <td>1.0</td>\n",
              "      <td>1</td>\n",
              "      <td>1</td>\n",
              "      <td>1</td>\n",
              "      <td>0</td>\n",
              "      <td>0</td>\n",
              "      <td>0</td>\n",
              "      <td>0</td>\n",
              "      <td>...</td>\n",
              "      <td>0</td>\n",
              "      <td>0</td>\n",
              "      <td>0</td>\n",
              "      <td>0</td>\n",
              "      <td>0</td>\n",
              "      <td>0</td>\n",
              "      <td>0</td>\n",
              "      <td>0</td>\n",
              "      <td>0</td>\n",
              "      <td>0</td>\n",
              "    </tr>\n",
              "  </tbody>\n",
              "</table>\n",
              "<p>5 rows × 425 columns</p>\n",
              "</div>\n",
              "      <button class=\"colab-df-convert\" onclick=\"convertToInteractive('df-d4ad10c4-7608-47e8-9d5a-56724fac074d')\"\n",
              "              title=\"Convert this dataframe to an interactive table.\"\n",
              "              style=\"display:none;\">\n",
              "        \n",
              "  <svg xmlns=\"http://www.w3.org/2000/svg\" height=\"24px\"viewBox=\"0 0 24 24\"\n",
              "       width=\"24px\">\n",
              "    <path d=\"M0 0h24v24H0V0z\" fill=\"none\"/>\n",
              "    <path d=\"M18.56 5.44l.94 2.06.94-2.06 2.06-.94-2.06-.94-.94-2.06-.94 2.06-2.06.94zm-11 1L8.5 8.5l.94-2.06 2.06-.94-2.06-.94L8.5 2.5l-.94 2.06-2.06.94zm10 10l.94 2.06.94-2.06 2.06-.94-2.06-.94-.94-2.06-.94 2.06-2.06.94z\"/><path d=\"M17.41 7.96l-1.37-1.37c-.4-.4-.92-.59-1.43-.59-.52 0-1.04.2-1.43.59L10.3 9.45l-7.72 7.72c-.78.78-.78 2.05 0 2.83L4 21.41c.39.39.9.59 1.41.59.51 0 1.02-.2 1.41-.59l7.78-7.78 2.81-2.81c.8-.78.8-2.07 0-2.86zM5.41 20L4 18.59l7.72-7.72 1.47 1.35L5.41 20z\"/>\n",
              "  </svg>\n",
              "      </button>\n",
              "      \n",
              "  <style>\n",
              "    .colab-df-container {\n",
              "      display:flex;\n",
              "      flex-wrap:wrap;\n",
              "      gap: 12px;\n",
              "    }\n",
              "\n",
              "    .colab-df-convert {\n",
              "      background-color: #E8F0FE;\n",
              "      border: none;\n",
              "      border-radius: 50%;\n",
              "      cursor: pointer;\n",
              "      display: none;\n",
              "      fill: #1967D2;\n",
              "      height: 32px;\n",
              "      padding: 0 0 0 0;\n",
              "      width: 32px;\n",
              "    }\n",
              "\n",
              "    .colab-df-convert:hover {\n",
              "      background-color: #E2EBFA;\n",
              "      box-shadow: 0px 1px 2px rgba(60, 64, 67, 0.3), 0px 1px 3px 1px rgba(60, 64, 67, 0.15);\n",
              "      fill: #174EA6;\n",
              "    }\n",
              "\n",
              "    [theme=dark] .colab-df-convert {\n",
              "      background-color: #3B4455;\n",
              "      fill: #D2E3FC;\n",
              "    }\n",
              "\n",
              "    [theme=dark] .colab-df-convert:hover {\n",
              "      background-color: #434B5C;\n",
              "      box-shadow: 0px 1px 3px 1px rgba(0, 0, 0, 0.15);\n",
              "      filter: drop-shadow(0px 1px 2px rgba(0, 0, 0, 0.3));\n",
              "      fill: #FFFFFF;\n",
              "    }\n",
              "  </style>\n",
              "\n",
              "      <script>\n",
              "        const buttonEl =\n",
              "          document.querySelector('#df-d4ad10c4-7608-47e8-9d5a-56724fac074d button.colab-df-convert');\n",
              "        buttonEl.style.display =\n",
              "          google.colab.kernel.accessAllowed ? 'block' : 'none';\n",
              "\n",
              "        async function convertToInteractive(key) {\n",
              "          const element = document.querySelector('#df-d4ad10c4-7608-47e8-9d5a-56724fac074d');\n",
              "          const dataTable =\n",
              "            await google.colab.kernel.invokeFunction('convertToInteractive',\n",
              "                                                     [key], {});\n",
              "          if (!dataTable) return;\n",
              "\n",
              "          const docLinkHtml = 'Like what you see? Visit the ' +\n",
              "            '<a target=\"_blank\" href=https://colab.research.google.com/notebooks/data_table.ipynb>data table notebook</a>'\n",
              "            + ' to learn more about interactive tables.';\n",
              "          element.innerHTML = '';\n",
              "          dataTable['output_type'] = 'display_data';\n",
              "          await google.colab.output.renderOutput(dataTable, element);\n",
              "          const docLink = document.createElement('div');\n",
              "          docLink.innerHTML = docLinkHtml;\n",
              "          element.appendChild(docLink);\n",
              "        }\n",
              "      </script>\n",
              "    </div>\n",
              "  </div>\n",
              "  "
            ]
          },
          "metadata": {},
          "execution_count": 141
        }
      ]
    },
    {
      "cell_type": "code",
      "source": [
        "#Una vez obtenido el data frame final, lo separamos en test y train\n",
        "X_train, X_test, y_train, y_test = train_test_split(pd_final,y,test_size=0.2,random_state=8,shuffle=True)"
      ],
      "metadata": {
        "id": "nJ6XRPzCwTmf"
      },
      "execution_count": 151,
      "outputs": []
    },
    {
      "cell_type": "code",
      "source": [
        "lr = LogisticRegression()"
      ],
      "metadata": {
        "id": "10l301tcxsXa"
      },
      "execution_count": 119,
      "outputs": []
    },
    {
      "cell_type": "code",
      "source": [
        "#Realizamos el fit de nuestro modelo de regresión logística\n",
        "lr.fit(X_train, y_train)"
      ],
      "metadata": {
        "colab": {
          "base_uri": "https://localhost:8080/"
        },
        "id": "OyDfpiaqbknO",
        "outputId": "05e3aad9-e750-4c30-8bb8-d28614af73fe"
      },
      "execution_count": 152,
      "outputs": [
        {
          "output_type": "stream",
          "name": "stderr",
          "text": [
            "/usr/local/lib/python3.8/dist-packages/sklearn/linear_model/_logistic.py:814: ConvergenceWarning: lbfgs failed to converge (status=1):\n",
            "STOP: TOTAL NO. of ITERATIONS REACHED LIMIT.\n",
            "\n",
            "Increase the number of iterations (max_iter) or scale the data as shown in:\n",
            "    https://scikit-learn.org/stable/modules/preprocessing.html\n",
            "Please also refer to the documentation for alternative solver options:\n",
            "    https://scikit-learn.org/stable/modules/linear_model.html#logistic-regression\n",
            "  n_iter_i = _check_optimize_result(\n"
          ]
        },
        {
          "output_type": "execute_result",
          "data": {
            "text/plain": [
              "LogisticRegression()"
            ]
          },
          "metadata": {},
          "execution_count": 152
        }
      ]
    },
    {
      "cell_type": "code",
      "source": [
        "#Utilizamos el modelo en un predict\n",
        "y_predict=lr.predict(X_test)"
      ],
      "metadata": {
        "id": "mV0S-OL-eKbA"
      },
      "execution_count": 153,
      "outputs": []
    },
    {
      "cell_type": "code",
      "source": [
        "y_predict"
      ],
      "metadata": {
        "colab": {
          "base_uri": "https://localhost:8080/"
        },
        "id": "-G6i9VGT7sNL",
        "outputId": "1becf3ed-fdf0-4fdc-f53f-e3114baf6489"
      },
      "execution_count": 154,
      "outputs": [
        {
          "output_type": "execute_result",
          "data": {
            "text/plain": [
              "array([0, 1, 1, ..., 0, 1, 1])"
            ]
          },
          "metadata": {},
          "execution_count": 154
        }
      ]
    },
    {
      "cell_type": "code",
      "source": [
        "confusion_matrix=sklearn.metrics.confusion_matrix(y_test, y_predict,)"
      ],
      "metadata": {
        "id": "RNb9_3Dw4Buk"
      },
      "execution_count": 155,
      "outputs": []
    },
    {
      "cell_type": "code",
      "source": [
        "disp=sklearn.metrics.ConfusionMatrixDisplay(confusion_matrix)\n",
        "disp.plot()\n",
        "plt.show"
      ],
      "metadata": {
        "colab": {
          "base_uri": "https://localhost:8080/",
          "height": 299
        },
        "id": "mJIeC5wM4m_2",
        "outputId": "6ca94c61-3333-4fb7-8cb1-56e383db37f5"
      },
      "execution_count": 156,
      "outputs": [
        {
          "output_type": "execute_result",
          "data": {
            "text/plain": [
              "<function matplotlib.pyplot.show(*args, **kw)>"
            ]
          },
          "metadata": {},
          "execution_count": 156
        },
        {
          "output_type": "display_data",
          "data": {
            "text/plain": [
              "<Figure size 432x288 with 2 Axes>"
            ],
            "image/png": "[encoded data removed]"
          },
          "metadata": {
            "needs_background": "light"
          }
        }
      ]
    },
    {
      "cell_type": "code",
      "source": [
        "accuracy= (26129+23501)/(26129+10973+8693+23501)\n",
        "accuracy"
      ],
      "metadata": {
        "colab": {
          "base_uri": "https://localhost:8080/"
        },
        "id": "wjIdvUiC_lee",
        "outputId": "8bbd47c6-31fc-4857-b094-19556897b693"
      },
      "execution_count": 157,
      "outputs": [
        {
          "output_type": "execute_result",
          "data": {
            "text/plain": [
              "0.7162029554375433"
            ]
          },
          "metadata": {},
          "execution_count": 157
        }
      ]
    },
    {
      "cell_type": "code",
      "source": [
        "recall = 23501/(23501+10973)\n",
        "recall"
      ],
      "metadata": {
        "colab": {
          "base_uri": "https://localhost:8080/"
        },
        "id": "LkNSYq2gA4zo",
        "outputId": "da2c6e79-6b04-4894-cc98-89b283df02ca"
      },
      "execution_count": 159,
      "outputs": [
        {
          "output_type": "execute_result",
          "data": {
            "text/plain": [
              "0.6817021523466961"
            ]
          },
          "metadata": {},
          "execution_count": 159
        }
      ]
    }
  ]
}